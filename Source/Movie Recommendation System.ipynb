{
 "cells": [
  {
   "cell_type": "markdown",
   "metadata": {},
   "source": [
    "# Data Cleaning"
   ]
  },
  {
   "cell_type": "code",
   "execution_count": 542,
   "metadata": {},
   "outputs": [],
   "source": [
    "\n",
    "import os\n",
    "import pandas as pd\n",
    "import numpy as np\n",
    "import xlsxwriter\n",
    "os.getcwd()\n",
    "\n",
    "\n",
    "#importing films raw data for processing and transforming \n",
    "films = pd.read_csv(\"/Users/aminbaabol/Desktop/PD/Personal_Projects/Movie_Recommendation/film_data.csv\")\n",
    "\n",
    "#creating an empty file to be populated with processed films data\n",
    "workbook = xlsxwriter.Workbook('CleanFilmsData.xlsx',{'nan_inf_to_errors': True})\n",
    "worksheet = workbook.add_worksheet()\n",
    "\n",
    "worksheet.write('A1', 'Film Title')\n",
    "worksheet.write('B1', 'Release Year')\n",
    "worksheet.write('C1', 'Film Rating')\n",
    "worksheet.write('D1', 'Genre')\n",
    "worksheet.write('E1', 'Box Office')\n",
    "worksheet.write('F1', 'Run Time(min)')\n",
    "worksheet.write('G1', 'Stars')\n",
    "\n",
    "#We'll add the iterated film titles into this empty set and use it to check for any duplicates\n",
    "duplicateCheck = set()\n",
    "\n",
    "#writing a while loop to automate processing the raw data and populating the empty file with processed data\n",
    "i=1\n",
    "while (i<=1000):\n",
    "    \n",
    "    #Movie title\n",
    "    #parsing row one,first column: first we split the raw title into by period then split by parenthesis, then select the first element of the splitted strinng\n",
    "    Film_Title = films['Movie Title'].iloc[i-1].split(\".\")[1].split('(')[0]\n",
    "    if Film_Title not in duplicateCheck:\n",
    "        if('(' in (films['Movie Title'].iloc[i-1])):\n",
    "            release_date = films['Movie Title'].iloc[i-1].split('(')[-1]\n",
    "            Release_Year = int(release_date[:-1])\n",
    "        else:\n",
    "            Release_Year = 'NaN'\n",
    "\n",
    "        #Movie Rating\n",
    "        #we are splitting the string by space then we're selecting the first element to keep\n",
    "        Film_Rating = float(films['Movie Rating'].iloc[i-1].split(\" \")[0])\n",
    "\n",
    "        #Thank goodness we are don't have to do anything for the Genre column\n",
    "        Genre = films['Genre'].iloc[i-1]\n",
    "        #Box Office\n",
    "        #We are spliting first row, box office column by \":\" then selecting the second element of the subsquent array\n",
    "        Box_Office = films['Box Office'].iloc[i-1] #.splirt(\":\")[2]\n",
    "        if len(Box_Office) > 0:\n",
    "            Box_Office2 = films['Box Office'].iloc[i-1].split(\"$\")\n",
    "            if len(Box_Office2) == 2:\n",
    "                Box_Office = Box_Office2[1]\n",
    "                Box_Office = Box_Office[:-1]\n",
    "                Box_Office = float(Box_Office)\n",
    "            else:\n",
    "                Box_Office = np.nan\n",
    "    #             if Box_Office2[0] in (\"Votes:\"):\n",
    "    #                 Box_Office = \"NaN\"\n",
    "    #             else:\n",
    "    #                 Box_Office = Box_Office2[0]\n",
    "    #                 Box_Office = Box_Office[:-1]\n",
    "\n",
    "        #Run Time\n",
    "        #We are removing the \"min\" from the column and indicate in the column header the unit will be in minutes\n",
    "        Run_Time = int(films['Run Time(min)'].iloc[i].split(\" \")[0])\n",
    "\n",
    "        #Stars:\n",
    "        #we are splitting the string chuck by \":\" then select the second element that contains the stars names to keep\n",
    "        Stars = films['Stars'].iloc[i-1].split(\":\")[2]\n",
    "\n",
    "        #populating the empty cells with the parsed elements from the raw data\n",
    "        worksheet.write('A'+str(i+1), Film_Title)\n",
    "        worksheet.write('B'+str(i+1), Release_Year)\n",
    "        worksheet.write('C'+str(i+1), Film_Rating)\n",
    "        worksheet.write('D'+str(i+1), Genre)\n",
    "        worksheet.write('E'+str(i+1), Box_Office)\n",
    "        worksheet.write('F'+str(i+1), Run_Time)\n",
    "        worksheet.write('G'+str(i+1), Stars)\n",
    "        i+=1\n",
    "\n",
    "workbook.close()"
   ]
  },
  {
   "cell_type": "markdown",
   "metadata": {},
   "source": [
    "# Data Wrangling"
   ]
  },
  {
   "cell_type": "code",
   "execution_count": 545,
   "metadata": {},
   "outputs": [],
   "source": [
    "# # checking if there are any NaN values in any of the column features\n",
    "# title_column = myData['Movie Title'].isnull().values.any()\n",
    "# year_column = myData['Release Year'].isnull().values.any()\n",
    "# rating_column = myData['Film Rating'].isnull().values.any()\n",
    "# genre_column = myData['Genre'].isnull().values.any()\n",
    "# box_office_column = myData['Box Office'].isnull().values.any()\n",
    "# run_time_column = myData['Run Time(min)'].isnull().values.any()\n",
    "# stars_column = myData['Stars'].isnull().values.any()\n",
    "# # print (title_column)\n",
    "# # print (year_column)\n",
    "# # print (rating_column)\n",
    "# # print (genre_column)\n",
    "# # print (box_office_column)\n",
    "# # print (run_time_column)\n",
    "# # print (stars_column)\n",
    "\n",
    "# #Box Office column contains NaN values, we will now add up all the NaN values in that column \n",
    "# # and divide by the total entries of the column *100 to see if NaN values are less than 5% of the data in that column\n",
    "# Box_Office_NA_Values = myData['Box Office'].isnull().sum()\n",
    "# print(Box_Office_NA_Sum)\n",
    "# Box_Office_Total_Entries = myData['Box Office'].count()\n",
    "# print(Box_Office_Total_Entries)\n",
    "\n",
    "# #checking how  Statistically significant the missing values are\n",
    "\n",
    "# NaN_Check = (Box_Office_NA_Values/Box_Office_Total_Entries)*100\n",
    "# print(round(NaN_Check,2),\"%\")\n",
    "\n",
    "# #since the significance of the missing values is more than 5%, we can't simply drop them, we must find an imputation method to best estimate those missing values\n",
    "# #checking the data distribution to help us make assumptions for the estimation method we choose\n",
    "\n"
   ]
  },
  {
   "cell_type": "markdown",
   "metadata": {},
   "source": [
    "# Imputing missing values"
   ]
  },
  {
   "cell_type": "code",
   "execution_count": 559,
   "metadata": {},
   "outputs": [],
   "source": [
    "import numpy as np\n",
    "\n",
    "from sklearn.datasets import load_boston\n",
    "from sklearn.ensemble import RandomForestRegressor\n",
    "from sklearn.pipeline import Pipeline\n",
    "from sklearn.impute import SimpleImputer\n",
    "from sklearn.model_selection import cross_val_score\n",
    "\n",
    "myData = pd.read_excel(\"/Users/aminbaabol/Desktop/PD/Personal_Projects/Movie_Recommendation/CleanFilmsData.xlsx\")\n",
    "\n",
    "#replacing the missing values with the mean of the column which contains the missing values\n",
    "Box_Office_mean = round(myData['Box Office'].mean(),2)\n",
    "myData['Box Office'] = myData['Box Office'].replace(np.nan,round(Box_Office_mean,2))\n",
    "myData['Genre'] = myData['Genre'].str.replace('-', '')\n",
    "myData.rename(columns={'Film Title':'title',\n",
    "                       'Release Year':'year',\n",
    "                       'Film Rating':'rating',\n",
    "                      'Box Office':'revenue'},\n",
    "                      inplace=True)\n",
    "myData.to_excel('TransformedData.xlsx')"
   ]
  },
  {
   "cell_type": "markdown",
   "metadata": {},
   "source": [
    "# Data Visualization"
   ]
  },
  {
   "cell_type": "code",
   "execution_count": 8,
   "metadata": {},
   "outputs": [
    {
     "data": {
      "text/plain": [
       "<matplotlib.axes._subplots.AxesSubplot at 0x7fac078f7580>"
      ]
     },
     "execution_count": 8,
     "metadata": {},
     "output_type": "execute_result"
    },
    {
     "data": {
      "image/png": "[encoded data removed]",
      "text/plain": [
       "<Figure size 432x432 with 1 Axes>"
      ]
     },
     "metadata": {
      "needs_background": "light"
     },
     "output_type": "display_data"
    }
   ],
   "source": [
    "import pandas as pd\n",
    "import numpy as np\n",
    "import matplotlib.pyplot as plt\n",
    "import seaborn as sns\n",
    "myData = pd.read_excel(\"/Users/aminbaabol/Desktop/PD/Personal_Projects/Movie_Recommendation/TransformedData.xlsx\")\n",
    "# the plot looks like some sort of distribution. Therefore, my options for \n",
    "myData.plot(kind='scatter',x='year', y='revenue', figsize=(6,6))\n"
   ]
  },
  {
   "cell_type": "code",
   "execution_count": 9,
   "metadata": {},
   "outputs": [
    {
     "data": {
      "text/plain": [
       "<matplotlib.axes._subplots.AxesSubplot at 0x7fac07792b50>"
      ]
     },
     "execution_count": 9,
     "metadata": {},
     "output_type": "execute_result"
    },
    {
     "data": {
      "image/png": "[encoded data removed]",
      "text/plain": [
       "<Figure size 720x288 with 1 Axes>"
      ]
     },
     "metadata": {
      "needs_background": "light"
     },
     "output_type": "display_data"
    }
   ],
   "source": [
    "# plot graph of 'ratings' column \n",
    "plt.figure(figsize =(10, 4)) \n",
    "myData['rating'].hist(bins = 50) "
   ]
  },
  {
   "cell_type": "markdown",
   "metadata": {},
   "source": [
    "# Building the ML model\n"
   ]
  },
  {
   "cell_type": "markdown",
   "metadata": {},
   "source": [
    "#We are going to build a that recommends movies that are similar to a particular movie. To achieve this, we compute pairwise cosine similarity scores for all movies based on Film Rating, Genre, and notable stars and then recommend movies based on that similarity score threshold."
   ]
  },
  {
   "cell_type": "code",
   "execution_count": 13,
   "metadata": {},
   "outputs": [
    {
     "data": {
      "text/plain": [
       "[Text(0, 0.5, 'Genre'), Text(0.5, 0, 'Movie Count')]"
      ]
     },
     "execution_count": 13,
     "metadata": {},
     "output_type": "execute_result"
    },
    {
     "data": {
      "image/png": "[encoded data removed]",
      "text/plain": [
       "<Figure size 576x864 with 1 Axes>"
      ]
     },
     "metadata": {},
     "output_type": "display_data"
    }
   ],
   "source": [
    "import numpy as np \n",
    "import pandas as pd\n",
    "import itertools\n",
    "import collections\n",
    "import seaborn as sns\n",
    "import matplotlib.pyplot as plt\n",
    "from sklearn.metrics import jaccard_score\n",
    "\n",
    "myData = pd.read_excel(\"/Users/aminbaabol/Desktop/PD/Personal_Projects/Movie_Recommendation/TransformedData.xlsx\")\n",
    "\n",
    "myData['genre'] = myData['genre'].fillna('None') # filling 'empty' data\n",
    "myData['genre'] = myData['genre'].apply(lambda x: x.split(', ')) # split genre into list of individual genre\n",
    "\n",
    "genre_data = itertools.chain(*myData['genre'].values.tolist()) # flatten the list\n",
    "genre_counter = collections.Counter(genre_data)\n",
    "\n",
    "genres = pd.DataFrame.from_dict(genre_counter, orient='index').reset_index().rename(columns={'index':'genre', 0:'count'})\n",
    "genres.sort_values('count', ascending=False, inplace=True)\n",
    "\n",
    "# Plot genre\n",
    "f, ax = plt.subplots(figsize=(8, 12))\n",
    "sns.set_color_codes(\"pastel\")\n",
    "sns.set_style(\"darkgrid\")\n",
    "sns.barplot(x=\"count\", y=\"genre\", data=genres, color='b')\n",
    "ax.set(ylabel='Genre',xlabel=\"Movie Count\")\n",
    "\n"
   ]
  },
  {
   "cell_type": "code",
   "execution_count": 14,
   "metadata": {},
   "outputs": [
    {
     "name": "stdout",
     "output_type": "stream",
     "text": [
      "                                              title  \\\n",
      "0                         The Shawshank Redemption    \n",
      "1                                    The Godfather    \n",
      "2                                  The Dark Knight    \n",
      "3                           The Godfather: Part II    \n",
      "4    The Lord of the Rings: The Return of the King    \n",
      "..                                              ...   \n",
      "75                                           Alien    \n",
      "76                                    High and Low    \n",
      "77                                               Dr   \n",
      "78                     Witness for the Prosecution    \n",
      "79                                  Paths of Glory    \n",
      "\n",
      "                                                genre  \n",
      "0   [1, 0, 0, 0, 0, 0, 0, 0, 0, 0, 0, 0, 0, 0, 0, ...  \n",
      "1   [1, 1, 0, 0, 0, 0, 0, 0, 0, 0, 0, 0, 0, 0, 0, ...  \n",
      "2   [1, 1, 1, 0, 0, 0, 0, 0, 0, 0, 0, 0, 0, 0, 0, ...  \n",
      "3   [1, 1, 0, 0, 0, 0, 0, 0, 0, 0, 0, 0, 0, 0, 0, ...  \n",
      "4   [1, 0, 1, 1, 0, 0, 0, 0, 0, 0, 0, 0, 0, 0, 0, ...  \n",
      "..                                                ...  \n",
      "75  [0, 0, 0, 0, 0, 0, 0, 0, 1, 0, 0, 0, 0, 0, 0, ...  \n",
      "76  [1, 1, 0, 0, 0, 0, 0, 0, 0, 0, 0, 1, 0, 0, 0, ...  \n",
      "77  [0, 0, 0, 0, 0, 0, 1, 0, 0, 0, 0, 0, 0, 0, 0, ...  \n",
      "78  [1, 1, 0, 0, 0, 0, 0, 0, 0, 0, 0, 1, 0, 0, 0, ...  \n",
      "79  [1, 0, 0, 0, 0, 0, 0, 0, 0, 0, 0, 0, 0, 0, 0, ...  \n",
      "\n",
      "[80 rows x 2 columns]\n"
     ]
    }
   ],
   "source": [
    "genre_map = {genre: idx for idx, genre in enumerate(genre_counter.keys())}\n",
    "\n",
    "def extract_feature(genre):\n",
    "    feature = np.zeros(len(genre_map.keys()), dtype=int)\n",
    "    feature[[genre_map[idx] for idx in genre]] += 1\n",
    "    return feature\n",
    "    \n",
    "movie_feature = pd.concat([myData['title'], myData['genre']], axis=1)\n",
    "movie_feature['genre'] = movie_feature['genre'].apply(lambda x: extract_feature(x))\n",
    "print(movie_feature.head(80))"
   ]
  },
  {
   "cell_type": "code",
   "execution_count": 19,
   "metadata": {},
   "outputs": [
    {
     "name": "stdout",
     "output_type": "stream",
     "text": [
      "Similar movie like  The Godfather :\n",
      "\t Dogville \n",
      "\t The Godfather: Part III \n",
      "\t To Kill a Mockingbird \n",
      "\t Blood In, Blood Out \n",
      "\t Casino \n",
      "\t Drive \n",
      "\t Breathless \n",
      "\t Lilya 4-Ever \n",
      "\t Leviathan \n",
      "\t City of God \n",
      "\t Shoplifters \n",
      "\t The 400 Blows \n",
      "\t Cool Hand Luke \n",
      "\t This Is England \n",
      "\t 12 Angry Men \n",
      "\t Scarface \n",
      "\t The Godfather: Part II \n",
      "\t Once Were Warriors \n",
      "\t Pulp Fiction \n",
      "\t A Prophet \n",
      "\t Taxi Driver \n",
      "\t Boyz n the Hood \n",
      "\t Once Upon a Time in America \n",
      "\t La Haine \n",
      "\t Once Upon a Time in Anatolia \n",
      "\n"
     ]
    }
   ],
   "source": [
    "test_data = movie_feature.take([1])\n",
    "for row in test_data.iterrows():\n",
    "    print('Similar movie like {}:'.format(row[1]['title']))\n",
    "    search = movie_feature.drop([row[0]]) # drop current movie\n",
    "    search['result'] = search['genre'].apply(lambda x: jaccard_score(row[1]['genre'], x))\n",
    "    search_result = search.sort_values('result', ascending=False)['title'].head(25)\n",
    "    for res in search_result.values:\n",
    "        print('\\t{}'.format(res))\n",
    "    print()"
   ]
  },
  {
   "cell_type": "code",
   "execution_count": null,
   "metadata": {},
   "outputs": [],
   "source": []
  }
 ],
 "metadata": {
  "kernelspec": {
   "display_name": "Python 3",
   "language": "python",
   "name": "python3"
  },
  "language_info": {
   "codemirror_mode": {
    "name": "ipython",
    "version": 3
   },
   "file_extension": ".py",
   "mimetype": "text/x-python",
   "name": "python",
   "nbconvert_exporter": "python",
   "pygments_lexer": "ipython3",
   "version": "3.8.3"
  }
 },
 "nbformat": 4,
 "nbformat_minor": 4
}
